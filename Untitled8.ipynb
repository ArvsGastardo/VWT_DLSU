!pip install pulp

import pulp
import numpy as np

#DEFINE PARAMETERS

num_locations = 14  # Total number of potential turbine sites (j)
num_water_areas = 18 # Total number of critical water bodies (i)
num_rain_zones = 4    # Total number of meteorological zones (z)

# --- Cost and Sensor Parameters ---
C_capex_per_turbine = 800000  # Capital cost per turbine in PHP
C_opex_per_turbine = 1200000 # Annual operational cost per turbine in PHP
T = 10                       # Time horizon for OPEX calculation (10 years)

# --- SENSOR RANGE ---
water_sensor_range = 500     # Coverage distance in meters
comm_link_range = 1500       # Communication range in meters

#  HYPOTHETICAL DATA GENERATION 


# Create hypothetical coordinates for the 14 potential turbine sites (j)
# and the critical water areas (i).
# We'll place them randomly within a 5km x 5km area (approx. 25 km^2)
np.random.seed(42) # for reproducible results
coords_j = np.random.rand(num_locations, 2) * 5000
coords_i = np.random.rand(num_water_areas, 2) * 5000

# PRE-PROCESSING & PARAMETER MATRIX GENERATION
print("Generating parameter matrices based on grid model...")
# -- Coverage Matrix for Water Sensors (S_W) --
# S_ij = 1 if distance between site j and water area i <= water_sensor_range
S_W = np.zeros((num_water_areas, num_locations))
for i in range(num_water_areas):
    for j in range(num_locations):
        distance = np.linalg.norm(coords_i[i] - coords_j[j])
        if distance <= water_sensor_range:
            S_W[i, j] = 1

for i in range(num_water_areas):
    if np.sum(S_W[i, :]) == 0: # Check if the row is all zeros
        print(f"Warning: Critical area {i} was initially uncoverable. Forcing a connection.")
        # Find the closest potential site 'j' to this critical area 'i'
        distances = [np.linalg.norm(coords_i[i] - coords_j[j]) for j in range(num_locations)]
        closest_j = np.argmin(distances)
        S_W[i, closest_j] = 1 # Manually set the connection to 1


# -- Rainfall Zone Matrix (L_Z) --

L_Z = np.zeros((num_rain_zones, num_locations))
for i in range(num_rain_zones):
    L_Z[i, i] = 1
remaining_assignments = np.random.randint(0, num_rain_zones, num_locations - num_rain_zones)
for i, zone_idx in enumerate(remaining_assignments):
    L_Z[zone_idx, i + num_rain_zones] = 1


# -- Connectivity Matrix (V) --
V = np.zeros((num_locations, num_locations))
for j in range(num_locations):
    for k in range(j + 1, num_locations):
        distance = np.linalg.norm(coords_j[j] - coords_j[k])
        if distance <= comm_link_range:
            V[j, k] = 1
            V[k, j] = 1 

print("...Parameter generation complete.")

#  OPTIMIZATION MODEL 
# Initialize the model.
model = pulp.LpProblem("Turbine_Placement_Optimization", pulp.LpMinimize)

#CREATE DECISION VARIABLES
# Location and link indices
locations = range(num_locations)
links = [(j, k) for j in locations for k in locations if j < k]

# x_j: 1 if a turbine is at site j, 0 otherwise
x = pulp.LpVariable.dicts("Turbine", locations, cat='Binary')

# y_jk: 1 if a communication link exists between j and k, 0 otherwise
y = pulp.LpVariable.dicts("Link", links, cat='Binary')

# --- 5. DEFINE THE OBJECTIVE FUNCTION ---
# The primary objective is to minimize the number of turbines.
model += pulp.lpSum(x[j] for j in locations), "Minimize_Turbine_Count"

# DEFINE THE CONSTRAINTS
print("Adding constraints to the model...")

model += pulp.lpSum(y[link] for link in links) == (pulp.lpSum(x[j] for j in locations) - 1), "Force_Tree_Network"

# -- Sensor Coverage Constraints --
# Each water body must be covered
for i in range(num_water_areas):
    model += pulp.lpSum(S_W[i, j] * x[j] for j in locations) >= 1, f"WaterCoverage_{i}"

# Each rainfall zone must have at least one turbine
for z in range(num_rain_zones):
    model += pulp.lpSum(L_Z[z, j] * x[j] for j in locations) >= 1, f"RainZone_{z}"

# Network Connectivity Constraints
for j, k in links:
    # A link can only be active if turbines are at both ends
    model += 2 * y[(j, k)] <= x[j] + x[k], f"LinkActivation_{j}_{k}"
    # A link requires a possible connection (within range)
    model += y[(j, k)] <= V[j, k], f"LineOfSight_{j}_{k}"

# -- Connectivity Enforcement Constraint --
for j in locations:
    # Sum all possible links connected to site j
    links_to_j = pulp.lpSum(y.get((k, j)) for k in locations if k < j)
    links_from_j = pulp.lpSum(y.get((j, k)) for k in locations if j < k)
    total_links_for_j = links_to_j + links_from_j
    
    # If a turbine is placed at j (x[j]=1), it must have at least one connection.
    model += total_links_for_j >= x[j], f"ConnectivityEnforcement_{j}"


# SOLVE THE MODEL 
print("Solving the optimization problem...")

model.solve()
print("...Done!")

#DISPLAY THE RESULTS
print("\n" + "="*40)
print("--- OPTIMAL DEPLOYMENT RESULTS ---")
print("="*40)
print(f"Model Status: {pulp.LpStatus[model.status]}")

if pulp.LpStatus[model.status] == 'Optimal':
    # Find which sites were selected
    selected_sites = [j for j in locations if x[j].varValue == 1]
    
    print(f"\nOptimal Number of Turbines to Deploy: {len(selected_sites)}")
    print(f"Selected Turbine Locations (Site #): {sorted(selected_sites)}")

    # Calculate and display the financial impact for recommendation
    final_capex = len(selected_sites) * C_capex_per_turbine
    final_opex_annual = len(selected_sites) * C_opex_per_turbine
    final_total_cost = final_capex + (T * final_opex_annual)
    
    print("\n--- Financial Recommendation ---")
    print(f"Total Capital Expenditure (CAPEX): Php {final_capex:,.2f}")
    print(f"Total Annual Operational Expenditure (OPEX): Php {final_opex_annual:,.2f}")
    print(f"Total Cost of Ownership ({T} years): Php {final_total_cost:,.2f}")

    # Find active communication links
    active_links = [link for link in links if y[link].varValue == 1]
    print("\n--- Network Configuration ---")
    print(f"Number of Active Communication Links: {len(active_links)}")
else:
    print("\nNo optimal solution was found.")
    print("This could be because the problem is infeasible (e.g., it's impossible to cover all areas with an efficient network).")
    print("Try relaxing constraints or checking your input data.")

print("\n" + "="*40)
